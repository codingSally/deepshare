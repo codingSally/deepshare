{
 "cells": [
  {
   "cell_type": "markdown",
   "metadata": {},
   "source": [
    "# 1. 何为模型部署"
   ]
  },
  {
   "cell_type": "code",
   "execution_count": null,
   "metadata": {},
   "outputs": [],
   "source": [
    "# 1. 就是从研究转向生产实际  -- jupyter是一种想法的验证\n",
    "# 2. 让想法变成实际可操作的界面 -- 人机交互界面【不单单是算法还有其他组件】"
   ]
  },
  {
   "cell_type": "markdown",
   "metadata": {},
   "source": [
    "# 2. 模型部署的组成部分"
   ]
  },
  {
   "cell_type": "code",
   "execution_count": null,
   "metadata": {},
   "outputs": [],
   "source": [
    "# 1. 客户端：用户界面的开发（移动端、pc端）\n",
    "# 2. 服务端：服务的选择或者性能影响（集群还是docker）\n",
    "# 3. 后台：算法以及集群或者数据库的维护（算法的调整或者sql的写入写出）\n",
    "# 4. 云平台：把以上三个组合在一起（阿里云、Google cloud, AWS, Azure, 腾讯云）"
   ]
  },
  {
   "cell_type": "markdown",
   "metadata": {},
   "source": [
    "# 3. 部署测试以及后期维护"
   ]
  },
  {
   "cell_type": "code",
   "execution_count": null,
   "metadata": {},
   "outputs": [],
   "source": [
    "# 1. 准确  -- 准确率\n",
    "# 2. 快速  -- 运行速度快\n",
    "# 3. 算法维护  -- 算法更新，随着数据量的增大，可能涉及参数调整甚至是算法替换\n",
    "# 4. 数据库维护 -- 速度\n",
    "# 5. 系统升级"
   ]
  },
  {
   "cell_type": "markdown",
   "metadata": {},
   "source": [
    "# 4. 部署后的一些建议"
   ]
  },
  {
   "cell_type": "code",
   "execution_count": null,
   "metadata": {},
   "outputs": [],
   "source": [
    "# 1. 好队友  -- 代码风格规范\n",
    "# 2. 需求要明确  -- 一定要明白领导或甲方让做什么\n",
    "# 3. 选择一个好的部署平台至关重要"
   ]
  },
  {
   "cell_type": "code",
   "execution_count": null,
   "metadata": {},
   "outputs": [],
   "source": []
  },
  {
   "cell_type": "code",
   "execution_count": null,
   "metadata": {},
   "outputs": [],
   "source": []
  },
  {
   "cell_type": "code",
   "execution_count": null,
   "metadata": {},
   "outputs": [],
   "source": []
  },
  {
   "cell_type": "code",
   "execution_count": null,
   "metadata": {},
   "outputs": [],
   "source": []
  }
 ],
 "metadata": {
  "kernelspec": {
   "display_name": "Python 3",
   "language": "python",
   "name": "python3"
  },
  "language_info": {
   "codemirror_mode": {
    "name": "ipython",
    "version": 3
   },
   "file_extension": ".py",
   "mimetype": "text/x-python",
   "name": "python",
   "nbconvert_exporter": "python",
   "pygments_lexer": "ipython3",
   "version": "3.7.5"
  }
 },
 "nbformat": 4,
 "nbformat_minor": 2
}
